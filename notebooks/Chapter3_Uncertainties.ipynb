{
 "cells": [
  {
   "cell_type": "markdown",
   "metadata": {},
   "source": [
    "# Chapter 3: Determining uncertainties and presenting data\n",
    "In this chapter, we looked at some of the basic rules for determining uncertainties and presenting data using appropriate significant figures.\n",
    "\n",
    "The only programming case is example 3.1, where we calculate the mean, standard deviations, and error on the mean of a set of measurements:"
   ]
  },
  {
   "cell_type": "code",
   "execution_count": 5,
   "metadata": {
    "collapsed": false
   },
   "outputs": [
    {
     "name": "stdout",
     "output_type": "stream",
     "text": [
      "T =  2.13 +/- 0.05 s\n"
     ]
    }
   ],
   "source": [
    "import numpy as np\n",
    "from math import *\n",
    "\n",
    "#load the measurements into a numpy array\n",
    "Ti = np.array([2.1,2.2,2.1,2.0,2.3,2.1])\n",
    "\n",
    "#numpy already knows how to fine the mean and standard deviation:\n",
    "Tavg = Ti.mean()\n",
    "Tstd = Ti.std(ddof=1)# this results in the N-1 in the denominator instead of N\n",
    "Terr = Tstd/sqrt(5)\n",
    "\n",
    "print(\"T = \",\"{:.2f}\".format(Tavg),\"+/-\",\"{:.2f} s\".format(Terr))"
   ]
  },
  {
   "cell_type": "code",
   "execution_count": null,
   "metadata": {
    "collapsed": true
   },
   "outputs": [],
   "source": []
  }
 ],
 "metadata": {
  "kernelspec": {
   "display_name": "Python 3",
   "language": "python",
   "name": "python3"
  },
  "language_info": {
   "codemirror_mode": {
    "name": "ipython",
    "version": 3
   },
   "file_extension": ".py",
   "mimetype": "text/x-python",
   "name": "python",
   "nbconvert_exporter": "python",
   "pygments_lexer": "ipython3",
   "version": "3.5.1"
  }
 },
 "nbformat": 4,
 "nbformat_minor": 0
}
