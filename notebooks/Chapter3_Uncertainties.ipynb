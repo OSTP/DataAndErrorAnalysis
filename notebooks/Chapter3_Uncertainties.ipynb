{
 "cells": [
  {
   "cell_type": "markdown",
   "metadata": {},
   "source": [
    "# Chapter 3: Determining uncertainties and presenting data\n",
    "In this chapter, we looked at some of the basic rules for determining uncertainties and presenting data using appropriate significant figures.\n",
    "\n",
    "The only programming case is example 3.1, where we calculate the mean, standard deviations, and error on the mean of a set of measurements:"
   ]
  },
  {
   "cell_type": "code",
   "execution_count": 10,
   "metadata": {
    "collapsed": false
   },
   "outputs": [
    {
     "name": "stdout",
     "output_type": "stream",
     "text": [
      "Mean = 2.13, Standard deviation = 0.10, Error on the mean = 0.04\n",
      "T =  2.13 +/- 0.04 s\n"
     ]
    }
   ],
   "source": [
    "import numpy as np\n",
    "from math import *\n",
    "\n",
    "#load the measurements into a numpy array\n",
    "Ti = np.array([2.1,2.2,2.1,2.0,2.3,2.1])\n",
    "\n",
    "#numpy already knows how to fine the mean and standard deviation:\n",
    "Tavg = Ti.mean()\n",
    "Tstd = Ti.std(ddof=1)# this results in the N-1 in the denominator instead of N\n",
    "Terr = Tstd/sqrt(Ti.size)\n",
    "\n",
    "print(\"Mean = {:.2f}, Standard deviation = {:.2f}, Error on the mean = {:.2f}\".format(Tavg, Tstd, Terr))\n",
    "print(\"T = \",\"{:.2f} +/- {:.2f} s\".format(Tavg,Terr))"
   ]
  },
  {
   "cell_type": "markdown",
   "metadata": {
    "collapsed": true
   },
   "source": [
    "This is even easier using QExpy. For QExpy, we use a Measurement for the case where we have multiple measurements of one single quantity. This is done as follows:"
   ]
  },
  {
   "cell_type": "code",
   "execution_count": 11,
   "metadata": {
    "collapsed": false
   },
   "outputs": [
    {
     "name": "stdout",
     "output_type": "stream",
     "text": [
      "T =  2.13 +/- 0.04 s\n"
     ]
    }
   ],
   "source": [
    "import qexpy as q\n",
    "T = q.Measurement([2.1,2.2,2.1,2.0,2.3,2.1])\n",
    "q.set_sigfigs(2)\n",
    "print(\"T = \",\"{:.2f} +/- {:.2f} s\".format(T.mean,T.error_on_mean))"
   ]
  },
  {
   "cell_type": "code",
   "execution_count": null,
   "metadata": {
    "collapsed": true
   },
   "outputs": [],
   "source": []
  }
 ],
 "metadata": {
  "anaconda-cloud": {},
  "kernelspec": {
   "display_name": "Python [default]",
   "language": "python",
   "name": "python3"
  },
  "language_info": {
   "codemirror_mode": {
    "name": "ipython",
    "version": 3
   },
   "file_extension": ".py",
   "mimetype": "text/x-python",
   "name": "python",
   "nbconvert_exporter": "python",
   "pygments_lexer": "ipython3",
   "version": "3.5.2"
  }
 },
 "nbformat": 4,
 "nbformat_minor": 0
}
