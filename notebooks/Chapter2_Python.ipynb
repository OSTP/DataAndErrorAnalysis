{
 "cells": [
  {
   "cell_type": "markdown",
   "metadata": {},
   "source": [
    "# Chapter 2: Python\n",
    "\n",
    "## The basics\n",
    "\n",
    "Some simple assignment and print operations:"
   ]
  },
  {
   "cell_type": "code",
   "execution_count": 6,
   "metadata": {
    "collapsed": false
   },
   "outputs": [
    {
     "name": "stdout",
     "output_type": "stream",
     "text": [
      "4\n"
     ]
    }
   ],
   "source": [
    "a = 2 \n",
    "b = 2*a\n",
    "print(b)"
   ]
  },
  {
   "cell_type": "code",
   "execution_count": 7,
   "metadata": {
    "collapsed": false
   },
   "outputs": [
    {
     "name": "stdout",
     "output_type": "stream",
     "text": [
      "The value of a is 2 and the value of b is  4\n"
     ]
    }
   ],
   "source": [
    "a = 2 \n",
    "b = 2*a\n",
    "print(\"The value of a is\",a,\"and the value of b is \",b)"
   ]
  },
  {
   "cell_type": "markdown",
   "metadata": {},
   "source": [
    "We can use the format method to select how many decimals to show:"
   ]
  },
  {
   "cell_type": "code",
   "execution_count": 8,
   "metadata": {
    "collapsed": false
   },
   "outputs": [
    {
     "name": "stdout",
     "output_type": "stream",
     "text": [
      "first=2.0, second= 1.50, third=0.6667\n"
     ]
    }
   ],
   "source": [
    "a = 2. \n",
    "b = 3./2.\n",
    "c = 2./3.\n",
    "print(\"first={:.1f}, second= {:.2f}, third={:.4f}\".format(a,b,c))"
   ]
  },
  {
   "cell_type": "markdown",
   "metadata": {},
   "source": [
    "Comments can be placed in the code using the pound (#) sign. Everything following a pound sign is ignored"
   ]
  },
  {
   "cell_type": "code",
   "execution_count": 10,
   "metadata": {
    "collapsed": false
   },
   "outputs": [
    {
     "name": "stdout",
     "output_type": "stream",
     "text": [
      "The value of a is 2 and the value of b is 4\n"
     ]
    }
   ],
   "source": [
    "#Here we have a simple program \n",
    "a = 2 #a is set to 2\n",
    "b = 2*a #b is twice a\n",
    "#Now we print out the result:\n",
    "print(\"The value of a is\",a,\"and the value of b is\",b)"
   ]
  },
  {
   "cell_type": "markdown",
   "metadata": {},
   "source": [
    "We can use python lists to hold a series of values into a single variable. We access each element of the list using the access operation, []:"
   ]
  },
  {
   "cell_type": "code",
   "execution_count": 11,
   "metadata": {
    "collapsed": false
   },
   "outputs": [
    {
     "name": "stdout",
     "output_type": "stream",
     "text": [
      "0.95\n"
     ]
    }
   ],
   "source": [
    "radii=[0.9,1.0,0.95,1.1,1.2,1.0,0.8,0.85,1.05,1.0]\n",
    "print(radii[2])"
   ]
  },
  {
   "cell_type": "markdown",
   "metadata": {},
   "source": [
    "We can use the len() function to get the number of items in a list:"
   ]
  },
  {
   "cell_type": "code",
   "execution_count": 12,
   "metadata": {
    "collapsed": false
   },
   "outputs": [
    {
     "name": "stdout",
     "output_type": "stream",
     "text": [
      "We measured 10 radii\n"
     ]
    }
   ],
   "source": [
    "radii=[0.9,1.0,0.95,1.1,1.2,1.0,0.8,0.85,1.05,1.0]\n",
    "print(\"We measured\",len(radii),\"radii\")"
   ]
  },
  {
   "cell_type": "markdown",
   "metadata": {},
   "source": [
    "We can use a variety of built-in functions for lists in python:"
   ]
  },
  {
   "cell_type": "code",
   "execution_count": 13,
   "metadata": {
    "collapsed": false
   },
   "outputs": [
    {
     "name": "stdout",
     "output_type": "stream",
     "text": [
      "The size of the list is 6\n",
      "Element 1 of the list is 2\n",
      "The list is: [1, 2, 3, 4, 5, 6]\n",
      "The list is now: [1, 2, 3, 4, 5, 6, 7]\n",
      "The list is now: [1, 2, 3, 4, 5, 7]\n",
      "The list is now: [1, 2, 3, 4, 5]\n",
      "The list is now: [1, 2, 3, 9, 4, 5]\n",
      "The list is now: [5, 4, 9, 3, 2, 1]\n",
      "The list is now: [1, 2, 3, 4, 5, 9]\n",
      "The mixed array: ['hello', 42, [1, 2, 3, 4, 5, 9]]\n",
      "Some elements from it: hello 42 4\n",
      "The sub list: [3, 4]\n"
     ]
    }
   ],
   "source": [
    "#a list of numbers\n",
    "array=[1,2,3,4,5,6]\n",
    "#len(array) is the number of elements in the list\n",
    "print(\"The size of the list is\",len(array))\n",
    "#lists start a 0\n",
    "print(\"Element 1 of the list is\",array[1])\n",
    "#You can print a list:\n",
    "print(\"The list is:\", array)\n",
    "#You can append an element to the end:\n",
    "array.append(7)\n",
    "print(\"The list is now:\",array)\n",
    "#Remove the 5th element\n",
    "array.pop(5)\n",
    "print(\"The list is now:\",array)\n",
    "#Remove the last element\n",
    "array.pop()\n",
    "print(\"The list is now:\",array)\n",
    "#Insert the number 9 at position 3\n",
    "array.insert(3,9)\n",
    "print(\"The list is now:\",array)\n",
    "#Reverse the elements in the list\n",
    "array.reverse()\n",
    "print(\"The list is now:\",array)\n",
    "#Sort the list\n",
    "array.sort()\n",
    "print(\"The list is now:\",array)\n",
    "#You can mix variable types in the list (even including other lists)\n",
    "mixedarray=[\"hello\",42,array]\n",
    "print(\"The mixed array:\",mixedarray)\n",
    "print(\"Some elements from it:\", mixedarray[0],\n",
    "      mixedarray[1],mixedarray[2][3])\n",
    "#You can slice a list to generate a new list\n",
    "subarray=array[2:4]\n",
    "print(\"The sub list:\",subarray)"
   ]
  },
  {
   "cell_type": "markdown",
   "metadata": {},
   "source": [
    "We can explicitly treat two dimensional lists as matrices:"
   ]
  },
  {
   "cell_type": "code",
   "execution_count": 15,
   "metadata": {
    "collapsed": false
   },
   "outputs": [
    {
     "name": "stdout",
     "output_type": "stream",
     "text": [
      "The first row: [1, 2, 3]\n",
      "Element [0][2]: 3\n"
     ]
    }
   ],
   "source": [
    "matrix = [[1,2,3],[4,5,6]]\n",
    "print(\"The first row:\",matrix[0])\n",
    "print(\"Element [0][2]:\",matrix[0][2])"
   ]
  },
  {
   "cell_type": "markdown",
   "metadata": {},
   "source": [
    "# Controlling the flow\n",
    "\n",
    "By using scope, we can add more logic into a computer program. The code in the scope of an if-statement is only executed if the statement evaluates to True:"
   ]
  },
  {
   "cell_type": "code",
   "execution_count": 16,
   "metadata": {
    "collapsed": false
   },
   "outputs": [
    {
     "name": "stdout",
     "output_type": "stream",
     "text": [
      "b is bigger than a\n",
      "2a is equal to c\n"
     ]
    }
   ],
   "source": [
    "#define 3 variables:\n",
    "a = 2 \n",
    "b = 3\n",
    "c = 4\n",
    "if b > a: #True\n",
    "  print(\"b is bigger than a\")\n",
    "if c < a: #False\n",
    "  print(\"c is smaller than a\")\n",
    "if 2*a == c: #True\n",
    "  print(\"2a is equal to c\")"
   ]
  },
  {
   "cell_type": "markdown",
   "metadata": {},
   "source": [
    "For loops are useful for repeating a calculation:"
   ]
  },
  {
   "cell_type": "code",
   "execution_count": 17,
   "metadata": {
    "collapsed": false
   },
   "outputs": [
    {
     "name": "stdout",
     "output_type": "stream",
     "text": [
      "r = 0.9\n",
      "r = 1.0\n",
      "r = 0.95\n",
      "r = 1.1\n",
      "r = 1.2\n",
      "r = 1.0\n",
      "r = 0.8\n",
      "r = 0.85\n",
      "r = 1.05\n",
      "r = 1.0\n"
     ]
    }
   ],
   "source": [
    "radii=[0.9,1.0,0.95,1.1,1.2,1.0,0.8,0.85,1.05,1.0]\n",
    "for r in radii:\n",
    "  print(\"r =\",r)"
   ]
  },
  {
   "cell_type": "markdown",
   "metadata": {},
   "source": [
    "With the range function, we can generate a list of the indices, and access each element by index:"
   ]
  },
  {
   "cell_type": "code",
   "execution_count": 18,
   "metadata": {
    "collapsed": false
   },
   "outputs": [
    {
     "name": "stdout",
     "output_type": "stream",
     "text": [
      "Element 0 has value: 0.9\n",
      "Element 1 has value: 1.0\n",
      "Element 2 has value: 0.95\n",
      "Element 3 has value: 1.1\n",
      "Element 4 has value: 1.2\n",
      "Element 5 has value: 1.0\n",
      "Element 6 has value: 0.8\n",
      "Element 7 has value: 0.85\n",
      "Element 8 has value: 1.05\n",
      "Element 9 has value: 1.0\n"
     ]
    }
   ],
   "source": [
    "radii=[0.9,1.0,0.95,1.1,1.2,1.0,0.8,0.85,1.05,1.0]\n",
    "n = len(radii)\n",
    "for index in range(n):\n",
    "  #the variable index will have values 0..9\n",
    "  print(\"Element\",index,\"has value:\", radii[index])"
   ]
  },
  {
   "cell_type": "markdown",
   "metadata": {},
   "source": [
    "### Example 2-1\n",
    "Arrays with the numbers from 1 to 100 and their squares"
   ]
  },
  {
   "cell_type": "code",
   "execution_count": 19,
   "metadata": {
    "collapsed": false
   },
   "outputs": [
    {
     "name": "stdout",
     "output_type": "stream",
     "text": [
      "the numbers are: [1, 2, 3, 4, 5, 6, 7, 8, 9, 10, 11, 12, 13, 14, 15, 16, 17, 18, 19, 20, 21, 22, 23, 24, 25, 26, 27, 28, 29, 30, 31, 32, 33, 34, 35, 36, 37, 38, 39, 40, 41, 42, 43, 44, 45, 46, 47, 48, 49, 50, 51, 52, 53, 54, 55, 56, 57, 58, 59, 60, 61, 62, 63, 64, 65, 66, 67, 68, 69, 70, 71, 72, 73, 74, 75, 76, 77, 78, 79, 80, 81, 82, 83, 84, 85, 86, 87, 88, 89, 90, 91, 92, 93, 94, 95, 96, 97, 98, 99, 100]\n",
      "the squares are: [1, 4, 9, 16, 25, 36, 49, 64, 81, 100, 121, 144, 169, 196, 225, 256, 289, 324, 361, 400, 441, 484, 529, 576, 625, 676, 729, 784, 841, 900, 961, 1024, 1089, 1156, 1225, 1296, 1369, 1444, 1521, 1600, 1681, 1764, 1849, 1936, 2025, 2116, 2209, 2304, 2401, 2500, 2601, 2704, 2809, 2916, 3025, 3136, 3249, 3364, 3481, 3600, 3721, 3844, 3969, 4096, 4225, 4356, 4489, 4624, 4761, 4900, 5041, 5184, 5329, 5476, 5625, 5776, 5929, 6084, 6241, 6400, 6561, 6724, 6889, 7056, 7225, 7396, 7569, 7744, 7921, 8100, 8281, 8464, 8649, 8836, 9025, 9216, 9409, 9604, 9801, 10000]\n"
     ]
    }
   ],
   "source": [
    "numbers=[] # an empty list that we will fill\n",
    "squares=[]\n",
    "for index in range(100):\n",
    "  x=index+1 # since the first value is 0\n",
    "  numbers.append(x)\n",
    "  squares.append(x*x)\n",
    "print(\"the numbers are:\",numbers)\n",
    "print(\"the squares are:\",squares)"
   ]
  },
  {
   "cell_type": "markdown",
   "metadata": {},
   "source": [
    "## Defining custom functions\n",
    "A simple example of defining a function to calculate a factorial"
   ]
  },
  {
   "cell_type": "code",
   "execution_count": 21,
   "metadata": {
    "collapsed": false
   },
   "outputs": [
    {
     "name": "stdout",
     "output_type": "stream",
     "text": [
      "3 factorial is 6\n",
      "10 factorial is 3628800\n"
     ]
    }
   ],
   "source": [
    "#Define the factorial function\n",
    "def factorial(n):\n",
    "    fact=1 # keep track of the factorial\n",
    "    for i in range(n):\n",
    "        fact = fact*(i+1) #+1 because the first i is zero\n",
    "    return fact\n",
    "#Test the function\n",
    "print(\"3 factorial is\",factorial(3))\n",
    "print(\"10 factorial is\",factorial(10))"
   ]
  },
  {
   "cell_type": "markdown",
   "metadata": {},
   "source": [
    "Functions do not need to take an argument:"
   ]
  },
  {
   "cell_type": "code",
   "execution_count": 22,
   "metadata": {
    "collapsed": false
   },
   "outputs": [
    {
     "name": "stdout",
     "output_type": "stream",
     "text": [
      "Hey, you should be warned here\n"
     ]
    }
   ],
   "source": [
    "#define a function to print a warning\n",
    "def printWarning():\n",
    "  print(\"Hey, you should be warned here\")\n",
    "\n",
    "#use the function:\n",
    "printWarning()"
   ]
  },
  {
   "cell_type": "markdown",
   "metadata": {},
   "source": [
    "A function can return more than one variable by returning a tuple:"
   ]
  },
  {
   "cell_type": "code",
   "execution_count": 24,
   "metadata": {
    "collapsed": false
   },
   "outputs": [
    {
     "name": "stdout",
     "output_type": "stream",
     "text": [
      "5 squared is 25 , 5 cubed is 125\n"
     ]
    }
   ],
   "source": [
    "#define a function of 1 argument\n",
    "def squareCube(x):\n",
    "  #return a tuple\n",
    "  return x*x, x*x*x\n",
    "\n",
    "#use the function to assign values to 2 variables\n",
    "x2 ,x3 =squareCube(5)\n",
    "\n",
    "print(\"5 squared is\",x2,\", 5 cubed is\",x3)"
   ]
  },
  {
   "cell_type": "markdown",
   "metadata": {},
   "source": [
    "## Importing modules\n",
    "We can import the math module to have access to a variety of mathematical operators (such as sqrt, sin, cos, exp, etc.):"
   ]
  },
  {
   "cell_type": "code",
   "execution_count": 25,
   "metadata": {
    "collapsed": false
   },
   "outputs": [
    {
     "name": "stdout",
     "output_type": "stream",
     "text": [
      "the square root of a is  1.4142135623730951\n"
     ]
    }
   ],
   "source": [
    "import math\n",
    "a=2\n",
    "sqrta = math.sqrt(a)\n",
    "print(\"the square root of a is \",sqrta)"
   ]
  },
  {
   "cell_type": "markdown",
   "metadata": {},
   "source": [
    "We can \"import as\" to avoid having to type the full name of the module each time:"
   ]
  },
  {
   "cell_type": "code",
   "execution_count": 26,
   "metadata": {
    "collapsed": false
   },
   "outputs": [
    {
     "name": "stdout",
     "output_type": "stream",
     "text": [
      "the sin of a is  0.9092974268256817\n"
     ]
    }
   ],
   "source": [
    "import math as m\n",
    "a=2\n",
    "sina = m.sin(a)\n",
    "print(\"the sin of a is \",sina)"
   ]
  },
  {
   "cell_type": "markdown",
   "metadata": {},
   "source": [
    "We can import all functions from a module, and then do not need to reference the module (this is not recommended!)"
   ]
  },
  {
   "cell_type": "code",
   "execution_count": 27,
   "metadata": {
    "collapsed": false
   },
   "outputs": [
    {
     "name": "stdout",
     "output_type": "stream",
     "text": [
      "the square root of a is  1.4142135623730951\n"
     ]
    }
   ],
   "source": [
    "from math import *\n",
    "a=2\n",
    "sqrta =sqrt(a) # don't need the math. in this case\n",
    "print(\"the square root of a is \",sqrta)"
   ]
  },
  {
   "cell_type": "markdown",
   "metadata": {},
   "source": [
    "We can also import a single function out of a module:"
   ]
  },
  {
   "cell_type": "code",
   "execution_count": 28,
   "metadata": {
    "collapsed": false
   },
   "outputs": [
    {
     "name": "stdout",
     "output_type": "stream",
     "text": [
      "the square root of a is  1.4142135623730951\n"
     ]
    }
   ],
   "source": [
    "from math import sqrt\n",
    "a=2\n",
    "sqrta =sqrt(a) # don't need the math. in this case\n",
    "print(\"the square root of a is \",sqrta)"
   ]
  },
  {
   "cell_type": "markdown",
   "metadata": {},
   "source": [
    "One can also create a module by placing function definitions in a file and then importing that file. We have copied the definitions of the functions factorial() and squareCube() into a file called \"errorAnalysis.py\", which we import and use below:"
   ]
  },
  {
   "cell_type": "code",
   "execution_count": 30,
   "metadata": {
    "collapsed": false
   },
   "outputs": [
    {
     "name": "stdout",
     "output_type": "stream",
     "text": [
      "8 factorial is: 40320\n",
      "square and cube of 5 are: (25, 125)\n"
     ]
    }
   ],
   "source": [
    "import errorAnalysis\n",
    "\n",
    "print(\"8 factorial is:\",errorAnalysis.factorial(8))\n",
    "print(\"square and cube of 5 are:\",errorAnalysis.squareCube(5))"
   ]
  },
  {
   "cell_type": "markdown",
   "metadata": {},
   "source": [
    "## Reading and writing files\n",
    "Let us read in a file (radcirc.dat) of radii and measured circumferences, and then write out to a file (results.dat) the difference between the measured circumference and 2pir. We use the format() method to limit how many decimals are printed in the output file"
   ]
  },
  {
   "cell_type": "code",
   "execution_count": 33,
   "metadata": {
    "collapsed": true
   },
   "outputs": [],
   "source": [
    "import math #because we need pi, and it's defined in math\n",
    "\n",
    "#open the file with the data, need quotation marks on the file name!\n",
    "dataFile = open('radcirc.dat', 'r') #open in read mode\n",
    "\n",
    "#open the file to write the output:\n",
    "resultFile = open('results.dat','w') #open in write mode\n",
    "\n",
    "#loop over each line in the file:\n",
    "for line in dataFile:\n",
    "  #line contains both numbers, so we split them up into list\n",
    "  lineData = line.split()\n",
    "  #take each value from the list and put them into new variables\n",
    "  #we need to convert them to numbers (float) because python assumes\n",
    "  #that they are strings of characters:\n",
    "  r=float(lineData[0])\n",
    "  circ=float(lineData[1])\n",
    "  \n",
    "  #the predicted circumference is:\n",
    "  predicted=2*math.pi*r\n",
    "  \n",
    "  #the difference with measured one is:\n",
    "  difference=predicted - circ\n",
    "  print(\"{:.2f}\".format(difference), file=resultFile)"
   ]
  },
  {
   "cell_type": "markdown",
   "metadata": {},
   "source": [
    "## Modules of use in scientific computing\n",
    "### Numpy\n",
    "Numpy is very useful for handling arrays of numbers and is much more efficient than python lists. Here are a few examples of initializing and using numpy arrays.\n"
   ]
  },
  {
   "cell_type": "code",
   "execution_count": 34,
   "metadata": {
    "collapsed": false
   },
   "outputs": [
    {
     "name": "stdout",
     "output_type": "stream",
     "text": [
      "The array is [1 2 3 4 5 6]  and has shape: (6,) and the second element is  2\n",
      "The size of the array is 6\n",
      "The array is :\n",
      " [[1 2 3]\n",
      " [4 5 6]] \n",
      " and has shape: (2, 3)\n",
      "The 1,2 element is 6\n",
      "The size of the array is 6\n",
      "Zeroes: \n",
      " [[ 0.  0.  0.  0.  0.]\n",
      " [ 0.  0.  0.  0.  0.]\n",
      " [ 0.  0.  0.  0.  0.]\n",
      " [ 0.  0.  0.  0.  0.]]\n",
      "Ones: [ 1.  1.  1.  1.  1.  1.  1.  1.  1.  1.]\n",
      "Sequence 1: [10 15 20 25]\n",
      "Sequence 2: [  0.   1.   2.   3.   4.   5.   6.   7.   8.   9.  10.]\n"
     ]
    }
   ],
   "source": [
    "# We import numpy (and by convention shorten it to np, since\n",
    "# we use it a lot)\n",
    "import numpy as np\n",
    "\n",
    "# a simple one-dimensional array\n",
    "a = np.array([1,2,3,4,5,6])\n",
    "\n",
    "# we can print the array and see it's \"shape\":\n",
    "print(\"The array is\",a,\" and has shape:\",a.shape, \"and the second element is \", a[1])\n",
    "print(\"The size of the array is\",a.size)\n",
    "\n",
    "#we can change the shape to be 2D, e.g. 2x3:\n",
    "a=a.reshape(2,3)\n",
    "print(\"The array is :\\n\",a,\"\\n and has shape:\",a.shape)\n",
    "\n",
    "#we access an element of a two d array as expected:\n",
    "print(\"The 1,2 element is\",a[1][2])\n",
    "print(\"The size of the array is\",a.size)\n",
    "\n",
    "#we can create an array full of zeroes:\n",
    "#we specify the shape of the array with a tuple (hence the extra parenthesis)\n",
    "z=np.zeros( (4,5) ) # 4 by 5 array of zeros\n",
    "print(\"Zeroes: \\n\", z)\n",
    "\n",
    "#we can create an array full of ones:\n",
    "#for a 1D array, no need to use a tuple for the shape\n",
    "o=np.ones(10) # array of 10 times the number 1\n",
    "print(\"Ones:\",o)\n",
    "\n",
    "#an array with numbers in a certain range:\n",
    "seq1 = np.arange(10,30,5) #numbers from 10 to 30 spaced by 5\n",
    "print(\"Sequence 1:\", seq1)\n",
    "\n",
    "#if using floats, better to use linspace\n",
    "seq2 = np.linspace(0,10,11) #11 numbers from 0 to 10\n",
    "print(\"Sequence 2:\", seq2)"
   ]
  },
  {
   "cell_type": "markdown",
   "metadata": {},
   "source": [
    "There are special numpy methods to write and read the arrays directly to files."
   ]
  },
  {
   "cell_type": "code",
   "execution_count": 37,
   "metadata": {
    "collapsed": false
   },
   "outputs": [
    {
     "name": "stdout",
     "output_type": "stream",
     "text": [
      "a:\n",
      " [[ 7.72906707  7.58554688  6.55403963  8.204429    6.36589465]\n",
      " [ 6.32161056  6.46633883  6.94348052  6.16305886  8.22179026]\n",
      " [ 7.13446799  6.99732091  5.98000653  7.58423135  6.75268651]\n",
      " [ 6.28267233  8.28811545  6.97310529  9.60489909  8.2377974 ]]\n",
      "b:\n",
      " [[ 7.73  7.59  6.55  8.2   6.37]\n",
      " [ 6.32  6.47  6.94  6.16  8.22]\n",
      " [ 7.13  7.    5.98  7.58  6.75]\n",
      " [ 6.28  8.29  6.97  9.6   8.24]]\n"
     ]
    }
   ],
   "source": [
    "import numpy as np\n",
    "\n",
    "#make a 4x5 array from random numbers that are normally distributed\n",
    "a=np.random.normal(7,1,(4,5)) #mean = 7, stdev = 1, shape=(4,5)\n",
    "print(\"a:\\n\",a)\n",
    "\n",
    "#now save to file (with 2 decimal places)\n",
    "#for Windows, need the '\\r\\n', otherwise, '\\n' works on Mac and Linux:\n",
    "np.savetxt('normaldist.dat',a, fmt='%.2f',newline='\\r\\n')\n",
    "\n",
    "#read from file:\n",
    "b=np.loadtxt('normaldist.dat')\n",
    "print(\"b:\\n\",b)"
   ]
  },
  {
   "cell_type": "markdown",
   "metadata": {},
   "source": [
    "We can use numpy methods to calculate properties of the array (such as the sum of the elements, their mean, their standard deviation, etc)."
   ]
  },
  {
   "cell_type": "code",
   "execution_count": 36,
   "metadata": {
    "collapsed": false
   },
   "outputs": [
    {
     "name": "stdout",
     "output_type": "stream",
     "text": [
      "a:\n",
      " [ 7.46161595  7.69000179  5.89548669  7.01653231  5.79241436  6.50478794\n",
      "  7.90049186  7.35861676  7.94790841  7.0088528   7.25540553  6.93505626\n",
      "  9.12845098  5.97135201  6.9343631 ]\n",
      "The mean is  7.12008911701  the standard deviation is:  0.882240259864\n",
      "The sum is  106.801336755  and the average is thus:  7.12008911701\n"
     ]
    }
   ],
   "source": [
    "import numpy as np\n",
    "\n",
    "#make an array of 15 random numbers that are normally distributed\n",
    "a=np.random.normal(7,1,15) #mean = 7, stdev = 1, shape = 15\n",
    "print(\"a:\\n\",a)\n",
    "\n",
    "#the average of those numbers and the standard deviation:\n",
    "print(\"The mean is \",a.mean(),\" the standard deviation is: \",a.std(ddof=1))\n",
    "\n",
    "#the sum of those numbers:\n",
    "print(\"The sum is \",a.sum(),\" and the average is thus: \",a.sum()/a.size)\n"
   ]
  },
  {
   "cell_type": "markdown",
   "metadata": {},
   "source": [
    "A particularly useful feature of numpy arrays is that one can operate on all elements at once without needing a for loop. For example, adding two numpy arrays produces a new array where each element is the sum of the corresponding elements of the arrays that were added. This is true for a variety of operations (e.g. multiplication), and there are additional functions in the numpy module (such as numpy.square()) that will perform more complex operations on each element."
   ]
  },
  {
   "cell_type": "code",
   "execution_count": 38,
   "metadata": {
    "collapsed": false
   },
   "outputs": [
    {
     "name": "stdout",
     "output_type": "stream",
     "text": [
      "a: [ 1.  2.  3.  4.  5.]\n",
      "b: [  6.   7.   8.   9.  10.]\n",
      "sum: [  7.   9.  11.  13.  15.]\n",
      "product: [  6.  14.  24.  36.  50.]\n",
      "2 times a: [  2.   4.   6.   8.  10.]\n",
      "a squared: [  1.   4.   9.  16.  25.]\n"
     ]
    }
   ],
   "source": [
    "import numpy as np\n",
    "\n",
    "#make two arrays of numbers\n",
    "a=np.linspace(1,5,5)\n",
    "b=np.linspace(6,10,5)\n",
    "print(\"a:\",a)\n",
    "print(\"b:\",b)\n",
    "\n",
    "#add arrays together, element by element:\n",
    "sumAB=a+b\n",
    "print(\"sum:\",sumAB)\n",
    "\n",
    "#multiply, element by element:\n",
    "productAB=a*b\n",
    "print(\"product:\",productAB)\n",
    "\n",
    "#multiply all elements by a scalar:\n",
    "twoA=2*a\n",
    "print(\"2 times a:\",twoA)\n",
    "\n",
    "#apply a function to elements:\n",
    "squareA=np.square(a)\n",
    "print(\"a squared:\",squareA)"
   ]
  },
  {
   "cell_type": "markdown",
   "metadata": {},
   "source": [
    "One can define a function that can act on either a normal variable or an array, depending on what it is passed as argument. "
   ]
  },
  {
   "cell_type": "code",
   "execution_count": 41,
   "metadata": {
    "collapsed": false
   },
   "outputs": [
    {
     "name": "stdout",
     "output_type": "stream",
     "text": [
      "2 and 3 added in quadrature is  3.60555127546\n",
      "a: [ 1.  2.  3.  4.  5.]\n",
      "b: [  6.   7.   8.   9.  10.]\n",
      "c: [  6.08276253   7.28010989   8.54400375   9.8488578   11.18033989]\n"
     ]
    }
   ],
   "source": [
    "#Define a simple function to add two numbers in quadrature:\n",
    "def addInQuad (e1,e2):\n",
    "  return np.sqrt(e1*e1+e2*e2)\n",
    "\n",
    "print(\"2 and 3 added in quadrature is \",addInQuad(2,3))\n",
    "\n",
    "#make two arrays of numbers\n",
    "a=np.linspace(1,5,5)\n",
    "b=np.linspace(6,10,5)\n",
    "print(\"a:\",a)\n",
    "print(\"b:\",b)\n",
    "\n",
    "#c is an array where each element is the elements of a and b \n",
    "#added in quadrature\n",
    "c=addInQuad(a,b)\n",
    "print(\"c:\",c)"
   ]
  },
  {
   "cell_type": "markdown",
   "metadata": {},
   "source": [
    "### Plotting with matplotlib (pylab)\n",
    "The pylab module (through the matplotlib module) allows us to easily plot data from numpy arrays. Below we plot the sine and cosine functions showing some of the plotting options that are available. "
   ]
  },
  {
   "cell_type": "code",
   "execution_count": 43,
   "metadata": {
    "collapsed": false
   },
   "outputs": [
    {
     "data": {
      "image/png": "[encoded data removed]",
      "text/plain": [
       "<matplotlib.figure.Figure at 0x1dcce89afd0>"
      ]
     },
     "metadata": {},
     "output_type": "display_data"
    }
   ],
   "source": [
    "import numpy as np\n",
    "import pylab as pl\n",
    "import math \n",
    "\n",
    "#If using Jupyter notebooks, we shoudl specify that we want the figure to appear in the notebook.\n",
    "#We use the special % character which is not \"pure python\", but rather a magic character for Jupyter:\n",
    "#this produces the figure in the notebook:\n",
    "%matplotlib inline \n",
    "#alternatively, this would makes the figure editable \n",
    "#%matplotlib notebook \n",
    "\n",
    "#create  and array holding values between 0 to 2pi\n",
    "x=np.linspace(0,2*math.pi,50) #values of x\n",
    "\n",
    "#use the fact that we can operate element-wise on a whole array, to create\n",
    "#arrays with value of sin and cos:\n",
    "y=np.sin(x)\n",
    "z=np.cos(x)\n",
    "\n",
    "#plot (x,y) and (x,z)\n",
    "pl.plot(x,y,label=\"sin(x)\") #default is a blue line\n",
    "pl.plot(x,z,'ro',label=\"sin(x)\") #plot red circles ('ro') instead\n",
    "\n",
    "#make it pretty:\n",
    "pl.xlabel(\"angle in radians\")\n",
    "pl.ylabel(\"sin or cos\")\n",
    "pl.title(\"Trig functions\")\n",
    "pl.legend(loc='upper center')\n",
    "pl.grid(True)\n",
    "\n",
    "#show the plot:\n",
    "pl.show()\n"
   ]
  },
  {
   "cell_type": "markdown",
   "metadata": {},
   "source": [
    "We can also make plots with error bars"
   ]
  },
  {
   "cell_type": "code",
   "execution_count": 44,
   "metadata": {
    "collapsed": false
   },
   "outputs": [
    {
     "data": {
      "image/png": "[encoded data removed]",
      "text/plain": [
       "<matplotlib.figure.Figure at 0x1dcce89a978>"
      ]
     },
     "metadata": {},
     "output_type": "display_data"
    }
   ],
   "source": [
    "import numpy as np\n",
    "import pylab as pl\n",
    "import math \n",
    "\n",
    "#plot (x,y) \n",
    "x=np.linspace(0,2*math.pi,50) # 50 values between 0 and 2pi\n",
    "y=np.sin(x)\n",
    "\n",
    "#let's add variable errors in y and fixed errors in x\n",
    "dy=0.2*np.sqrt(np.abs(y)) #variable errors in y\n",
    "dx=0.1 #constant error bards in x\n",
    "\n",
    "pl.errorbar(x,y,yerr=dy,xerr=dx, fmt='o') \n",
    "pl.title(\"Plot with error bars\")\n",
    "pl.show()"
   ]
  },
  {
   "cell_type": "markdown",
   "metadata": {},
   "source": [
    "We can use a histogram to plot statistical data"
   ]
  },
  {
   "cell_type": "code",
   "execution_count": 45,
   "metadata": {
    "collapsed": false
   },
   "outputs": [
    {
     "data": {
      "image/png": "[encoded data removed]",
      "text/plain": [
       "<matplotlib.figure.Figure at 0x1dcceb05748>"
      ]
     },
     "metadata": {},
     "output_type": "display_data"
    }
   ],
   "source": [
    "import numpy as np\n",
    "import pylab as pl\n",
    "import math \n",
    "\n",
    "#create a set of normally distributed random numbers\n",
    "x=np.random.normal(7,1,1000)\n",
    "\n",
    "#histogram the values\n",
    "n,bins,patches=pl.hist(x,bins=40)\n",
    "\n",
    "#Make it pretty:\n",
    "pl.xlabel(\"value\")\n",
    "pl.ylabel(\"frequency of value\")\n",
    "pl.title(\"Normally distributed variable\")\n",
    "\n",
    "#Set the axis range\n",
    "pl.axis([0,12,0,80])\n",
    "\n",
    "#show the plot:\n",
    "pl.show()"
   ]
  },
  {
   "cell_type": "markdown",
   "metadata": {},
   "source": [
    "We can control the position and width of the individual bins in the histogram by passing an array to the bins parameter. We can overlay multiple histogram onto a single plot, and make it pretty by controlling the transparency of the histograms (through the alpha parameter)."
   ]
  },
  {
   "cell_type": "code",
   "execution_count": 46,
   "metadata": {
    "collapsed": false
   },
   "outputs": [
    {
     "data": {
      "image/png": "[encoded data removed]",
      "text/plain": [
       "<matplotlib.figure.Figure at 0x1dccf3c0630>"
      ]
     },
     "metadata": {},
     "output_type": "display_data"
    }
   ],
   "source": [
    "import numpy as np\n",
    "import pylab as pl\n",
    "import math \n",
    "\n",
    "#create a set of normally distributed random numbers\n",
    "x=np.random.normal(7,1,1000)\n",
    "\n",
    "#histogram the values with different binning and different styles\n",
    "pl.hist(x,bins=40,alpha=0.5,color='red',histtype='stepfilled',label='40 regular bins') #alpha makes it translucent...\n",
    "pl.hist(x,bins=[6.5,7,7.1,7.2,7.3,7.4,7.5,8],alpha=0.5,color='blue',label='7 uneven bins')\n",
    "#Make it pretty:\n",
    "pl.xlabel(\"value\")\n",
    "pl.ylabel(\"frequency of value\")\n",
    "pl.title(\"Normally distributed variable - different binning\")\n",
    "pl.legend()\n",
    "pl.grid()\n",
    "\n",
    "#Set the axis range\n",
    "pl.axis([3.5,10.5,0,250])\n",
    "#show the plot:\n",
    "pl.show()"
   ]
  },
  {
   "cell_type": "markdown",
   "metadata": {},
   "source": [
    "We can use a variety of options to plot histograms, we can normalize them to an area of 1, and we can also plot their integrals. The following code highlights the possibilities for plotting histograms, as well as shows how to include multiple plots into a single figure, and how to use a log-scale on the y-axis:"
   ]
  },
  {
   "cell_type": "code",
   "execution_count": 49,
   "metadata": {
    "collapsed": false
   },
   "outputs": [
    {
     "data": {
      "image/png": "[encoded data removed]",
      "text/plain": [
       "<matplotlib.figure.Figure at 0x1dccf579d68>"
      ]
     },
     "metadata": {},
     "output_type": "display_data"
    }
   ],
   "source": [
    "import numpy as np\n",
    "import pylab as pl\n",
    "import math \n",
    "\n",
    "#create a set of normally distributed random numbers\n",
    "x=np.random.normal(7,1,1000)\n",
    "\n",
    "#Choose the size of the figure:\n",
    "pl.figure(figsize=(8,8))\n",
    "\n",
    "#Create different sub plots:\n",
    "#Available colours by name are the standard \"html colours\"\n",
    "pl.subplot(221)\n",
    "pl.hist(x,bins=40,color='gray',histtype='step')\n",
    "pl.title(\"basic histogram\")\n",
    "pl.xlabel(\"value\")\n",
    "pl.ylabel(\"frequency of value\")\n",
    "\n",
    "pl.subplot(222)\n",
    "pl.hist(x,bins=40,color='burlywood',histtype='stepfilled',normed=True,label='40 bins')\n",
    "pl.hist(x,bins=10,color='darkslateblue',alpha=0.5,histtype='bar',normed=True,label='10 bins')\n",
    "pl.title(\"normalized\")\n",
    "pl.xlabel(\"value\")\n",
    "pl.ylabel(\"frequency of value\")\n",
    "pl.legend(loc='upper left',prop={'size':8})\n",
    "\n",
    "pl.subplot(223)\n",
    "pl.hist(x,bins=40,color='darkgoldenrod',alpha=0.5,histtype='stepfilled',normed=True,cumulative=True)\n",
    "pl.title(\"normalized and cumulative\")\n",
    "pl.xlabel(\"value\")\n",
    "pl.ylabel(\"integral of value\")\n",
    "\n",
    "pl.subplot(224)\n",
    "pl.hist(x,bins=40,color='chocolate',histtype='stepfilled', log=True)\n",
    "pl.grid()\n",
    "pl.title(\"basic - log scale\")\n",
    "pl.xlabel(\"value\")\n",
    "pl.ylabel(\"frequency of value\")\n",
    "\n",
    "#show the figure:\n",
    "pl.tight_layout() #space out the sub plots\n",
    "pl.show()"
   ]
  },
  {
   "cell_type": "markdown",
   "metadata": {},
   "source": [
    "### Symbolic computations with sympy\n",
    "We can use the sympy module to perform symbolic (algebraic) manipulations of expressions. This is particuarly useful when we hav to take derivatives of expressions and sum them in quadrature\n"
   ]
  },
  {
   "cell_type": "code",
   "execution_count": 9,
   "metadata": {
    "collapsed": false
   },
   "outputs": [
    {
     "name": "stdout",
     "output_type": "stream",
     "text": [
      "df/dx= x/sqrt(x**2 + y**2) df/dy= y/sqrt(x**2 + y**2)\n",
      "df/dx+df/dy =  x/sqrt(x**2 + y**2) + y/sqrt(x**2 + y**2)\n",
      "The function f:\n"
     ]
    },
    {
     "data": {
      "image/png": "[encoded data removed]",
      "text/latex": [
       "$$\\sqrt{x^{2} + y^{2}}$$"
      ],
      "text/plain": [
       "   _________\n",
       "  ╱  2    2 \n",
       "╲╱  x  + y  "
      ]
     },
     "metadata": {},
     "output_type": "display_data"
    },
    {
     "name": "stdout",
     "output_type": "stream",
     "text": [
      "The sum of the derivatives:\n"
     ]
    },
    {
     "data": {
      "image/png": "[encoded data removed]",
      "text/latex": [
       "$$\\frac{x}{\\sqrt{x^{2} + y^{2}}} + \\frac{y}{\\sqrt{x^{2} + y^{2}}}$$"
      ],
      "text/plain": [
       "     x              y      \n",
       "──────────── + ────────────\n",
       "   _________      _________\n",
       "  ╱  2    2      ╱  2    2 \n",
       "╲╱  x  + y     ╲╱  x  + y  "
      ]
     },
     "metadata": {},
     "output_type": "display_data"
    }
   ],
   "source": [
    "import sympy as sym\n",
    "sym.init_printing()\n",
    "\n",
    "x,y = sym.symbols('x y')  #declare variables x and y to be used as symbols\n",
    "#When we use a function, such as sqrt, we should use the version from the sympy package:\n",
    "f = sym.sqrt(x**2+y**2) #a function of x and y\n",
    "#take the partial derivatives of f\n",
    "dfdx = sym.diff(f,x)\n",
    "dfdy = sym.diff(f,y)\n",
    "print(\"df/dx=\",dfdx,\"df/dy=\",dfdy)\n",
    "#add them together\n",
    "dSum = dfdx+dfdy\n",
    "print(\"df/dx+df/dy = \",dSum)\n",
    "\n",
    "#We can display things in a pretty form:\n",
    "from IPython.display import display\n",
    "print(\"The function f:\")\n",
    "display(f)\n",
    "print(\"The sum of the derivatives:\")\n",
    "display(dSum)"
   ]
  },
  {
   "cell_type": "markdown",
   "metadata": {},
   "source": [
    "We can substitute numerical values for the symbols, and use N() to evaluate the result:"
   ]
  },
  {
   "cell_type": "code",
   "execution_count": 53,
   "metadata": {
    "collapsed": false
   },
   "outputs": [
    {
     "name": "stdout",
     "output_type": "stream",
     "text": [
      "value 1: 1.39, value 2: 1.41\n"
     ]
    }
   ],
   "source": [
    "#substitute some numbers for x and y into our dSum expression\n",
    "nValue1 = dSum.subs([(x,2),(y,3)])\n",
    "nValue2 = dSum.subs([(x,4),(y,5)])\n",
    "print(\"value 1: {:.2f}, value 2: {:.2f}\".format(sym.N(nValue1),sym.N(nValue2)))"
   ]
  },
  {
   "cell_type": "markdown",
   "metadata": {},
   "source": [
    "### Curve fitting with scipy.optimize\n",
    "Below is a an example of fitting a set of data to a second order polynomial. The code also contains a part to generat a fake set of data for us to fit. At the end, we plot the data, the result of the fit, as well as the residuals from the fit."
   ]
  },
  {
   "cell_type": "code",
   "execution_count": 6,
   "metadata": {
    "collapsed": false
   },
   "outputs": [
    {
     "data": {
      "image/png": "[encoded data removed]",
      "text/plain": [
       "<matplotlib.figure.Figure at 0x18b60de9d30>"
      ]
     },
     "metadata": {},
     "output_type": "display_data"
    }
   ],
   "source": [
    "import numpy as np\n",
    "import pylab as pl\n",
    "from math import *\n",
    "from scipy.optimize import curve_fit #for fitting\n",
    "%matplotlib inline\n",
    "\n",
    "#Define our model function, that depends on x and the parameters that we want to determine\n",
    "def model(x,*pars):\n",
    "    return pars[0]+pars[1]*x+pars[2]*x*x\n",
    "\n",
    "######################\n",
    "#Create the fake data#\n",
    "######################\n",
    "#True values for the parameters, that we use to generate the data:\n",
    "pars_true=[5,50,-3]\n",
    "\n",
    "#generate x-values of the data:\n",
    "ndata = 50 #number of data points\n",
    "xdata = np.linspace(0,10,ndata)\n",
    "\n",
    "#generate y coordinates that are normally distributed about the model evaluated at xdata\n",
    "#with a sigma of yerr\n",
    "yerr=5 #the uncertainty on y values\n",
    "ydata = np.random.normal(model(xdata,*pars_true),yerr)\n",
    "\n",
    "#Need an array to hold the uncertainties on the y points (all are equal to yerr)\n",
    "ydataErr=yerr*np.ones(ydata.size)\n",
    "\n",
    "#Guesses for the parameters (use the true values here)\n",
    "pars_guess = pars_true\n",
    "\n",
    "##############\n",
    "#Run the fit:#\n",
    "##############\n",
    "pars_fit, pcov = curve_fit(model, xdata, ydata,sigma=ydataErr,p0=pars_guess)\n",
    "\n",
    "#Get the errors out of the covariance matrix (sqrt of the diagonal elements)\n",
    "pars_err = np.sqrt(np.diag(pcov))\n",
    "\n",
    "#Create some text with the fit results to put into our plot\n",
    "resultTxt = '''Fitted parameters for:\n",
    "y=a+bx+cx^2:\\n'''\n",
    "parNames = [\"a\",\"b\",\"c\"]\n",
    "for i in range(pars_fit.size):\n",
    "    resultTxt = resultTxt+\"{:s}: {:.2f} +/- {:.2f}\\n\".format(parNames[i],pars_fit[i],pars_err[i])\n",
    "\n",
    "#########################################################    \n",
    "#Plot the data with error bars and the result of the fit#\n",
    "#Also include a subplot with the residuals              #\n",
    "#########################################################\n",
    "\n",
    "#Generage a curve from the model and the fitted parameters\n",
    "yfit = model(xdata,*pars_fit)\n",
    "#Generate a set of residuals for the fit\n",
    "yres = ydata-yfit\n",
    "\n",
    "#Set the size of the figure\n",
    "pl.figure(figsize=(8,8))\n",
    "#Divide the figure into 3 rows, use the top 2 rows for the data\n",
    "ax1=pl.subplot2grid((3,1),(0, 0),rowspan=2)\n",
    "#Plot the data with error bars\n",
    "pl.errorbar(xdata,ydata,yerr=yerr,fmt='o',label='data',color='black')\n",
    "#Plot the fit line\n",
    "pl.plot(xdata,yfit,'r',label='fit',lw=3)\n",
    "pl.axis([xdata.min()-1,xdata.max()+1,ydata.min()-yerr-1,1.1*ydata.max()])\n",
    "pl.legend(loc='upper left')\n",
    "pl.text(5,50,resultTxt,fontsize=14)\n",
    "pl.title(\"Fit of the data\")\n",
    "pl.xlabel('x')\n",
    "pl.ylabel('y')\n",
    "#Use the bottom row of the figure for the residuals:\n",
    "ax2=pl.subplot2grid((3,1),(2, 0),rowspan=1)\n",
    "pl.errorbar(xdata,yres,yerr=yerr,fmt='o',color='black')#residuals\n",
    "pl.ylabel('residuals')\n",
    "pl.xlabel('x')\n",
    "pl.axis([xdata.min()-1,xdata.max()+1,-25,25])\n",
    "pl.tight_layout()\n",
    "pl.show()\n",
    "\n"
   ]
  },
  {
   "cell_type": "code",
   "execution_count": null,
   "metadata": {
    "collapsed": true
   },
   "outputs": [],
   "source": [
    "#"
   ]
  }
 ],
 "metadata": {
  "kernelspec": {
   "display_name": "Python 3",
   "language": "python",
   "name": "python3"
  },
  "language_info": {
   "codemirror_mode": {
    "name": "ipython",
    "version": 3
   },
   "file_extension": ".py",
   "mimetype": "text/x-python",
   "name": "python",
   "nbconvert_exporter": "python",
   "pygments_lexer": "ipython3",
   "version": "3.5.1"
  }
 },
 "nbformat": 4,
 "nbformat_minor": 0
}
