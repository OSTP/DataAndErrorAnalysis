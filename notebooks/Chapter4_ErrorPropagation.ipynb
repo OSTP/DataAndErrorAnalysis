{
 "cells": [
  {
   "cell_type": "markdown",
   "metadata": {},
   "source": [
    "# Chapter 4: Error propagation\n",
    "In this chapter, we present the various formulas for propating errors. We will motivate the origin of these formulas in later chapters, after covering the properties of the Normal distribution.\n",
    "\n",
    "## 4.1 The Min-Max method\n",
    "We start with example 4-3, where we use the Min-Max method numerically to find the best estimate and uncertainty in the function:\n",
    "$F(x,y)=\\sin(x+\\log y)$ "
   ]
  },
  {
   "cell_type": "code",
   "execution_count": 2,
   "metadata": {
    "collapsed": false
   },
   "outputs": [
    {
     "name": "stdout",
     "output_type": "stream",
     "text": [
      "The range of F is between -0.19 and 0.70\n",
      "F is thus given by: 0.26 +/- 0.44\n",
      "These occurred at x,y = 1.00,0.63, and -0.35,0.30\n"
     ]
    }
   ],
   "source": [
    "#Example 4-3:\n",
    "import numpy as np\n",
    "from math import *\n",
    "\n",
    "#The function for which we want to find the uncertainties\n",
    "def F(x,y):\n",
    "    return np.sin(x+np.log(y))\n",
    "\n",
    "#x and y, and their uncertainties:\n",
    "x,sigma_x=0.,1\n",
    "y,sigma_y=0.5,0.2\n",
    "\n",
    "#generate 50 values within the range for x and y to scan the values of F\n",
    "xvalues=np.linspace(x-sigma_x,x+sigma_x,50)\n",
    "yvalues=np.linspace(y-sigma_y,y+sigma_y,50)\n",
    "\n",
    "#initialize Fmin and Fmax outside of the possible range (since -1<F<1)\n",
    "Fmin,Fmax=10,-10\n",
    "\n",
    "#Now scan all the values of x and y to find the minimum and maximum of F\n",
    "xmin,xmax,ymin,ymax=0,0,0,0\n",
    "for xi in xvalues:\n",
    "    for yi in yvalues:\n",
    "        f=F(xi,yi)\n",
    "        if f<Fmin:\n",
    "            Fmin=f\n",
    "            xmin=xi\n",
    "            ymin=yi\n",
    "        if f>Fmax:\n",
    "            Fmax=f\n",
    "            xmax=xi\n",
    "            ymax=yi\n",
    "            \n",
    "print(\"The range of F is between {0:.2f} and {1:.2f}\".format(Fmin,Fmax))\n",
    "print(\"F is thus given by: {0:.2f} +/- {1:.2f}\".format(0.5*(Fmax+Fmin),0.5*(Fmax-Fmin)))\n",
    "print(\"These occurred at x,y = {0:.2f},{1:.2f}, and {2:.2f},{3:.2f}\".format(xmin,ymin,xmax,ymax))"
   ]
  },
  {
   "cell_type": "markdown",
   "metadata": {},
   "source": [
    "## 4.4 The general case: function of multiple variables\n",
    "\n",
    "In example 4-6, we compute the derivative of the quotient $F(x,y)=\\frac{x}{y}$ using the formula with the derivative, and compare that to the result from adding the error in quadrature:\n"
   ]
  },
  {
   "cell_type": "code",
   "execution_count": 17,
   "metadata": {
    "collapsed": false
   },
   "outputs": [
    {
     "name": "stdout",
     "output_type": "stream",
     "text": [
      "Formula for sigma_F from the derivative:\n"
     ]
    },
    {
     "data": {
      "image/png": "[encoded data removed]",
      "text/latex": [
       "$$\\sqrt{\\frac{\\sigma_{x}^{2}}{y^{2}} + \\frac{\\sigma_{y}^{2} x^{2}}{y^{4}}}$$"
      ],
      "text/plain": [
       "      _________________________\n",
       "     ╱        2           2  2 \n",
       "    ╱  \\sigmaₓ    \\sigma_y ⋅x  \n",
       "   ╱   ──────── + ──────────── \n",
       "  ╱        2            4      \n",
       "╲╱        y            y       "
      ]
     },
     "execution_count": 17,
     "metadata": {},
     "output_type": "execute_result"
    }
   ],
   "source": [
    "import sympy as sym\n",
    "sym.init_printing()\n",
    "#Let's use sympy to evaluate the error with the derivatives:\n",
    "x,y,sigma_x, sigma_y = sym.symbols('x y \\sigma_x \\sigma_y')  #declare variables x and y to be used as symbols\n",
    "F = (x/y) #a function of x and y\n",
    "\n",
    "dFdx=sym.diff(F,x)\n",
    "dFdy=sym.diff(F,y)\n",
    "sigma_F=sym.sqrt((dFdx*sigma_x)**2+(dFdy*sigma_y)**2)\n",
    "print(\"Formula for sigma_F from the derivative:\")\n",
    "sigma_F"
   ]
  },
  {
   "cell_type": "code",
   "execution_count": 18,
   "metadata": {
    "collapsed": false
   },
   "outputs": [
    {
     "name": "stdout",
     "output_type": "stream",
     "text": [
      "Formula for sigma_F from the relative uncertainties:\n"
     ]
    },
    {
     "data": {
      "image/png": "[encoded data removed]",
      "text/latex": [
       "$$\\frac{x}{y} \\sqrt{\\frac{\\sigma_{x}^{2}}{x^{2}} + \\frac{\\sigma_{y}^{2}}{y^{2}}}$$"
      ],
      "text/plain": [
       "        ______________________\n",
       "       ╱        2           2 \n",
       "      ╱  \\sigmaₓ    \\sigma_y  \n",
       "x⋅   ╱   ──────── + ───────── \n",
       "    ╱        2           2    \n",
       "  ╲╱        x           y     \n",
       "──────────────────────────────\n",
       "              y               "
      ]
     },
     "execution_count": 18,
     "metadata": {},
     "output_type": "execute_result"
    }
   ],
   "source": [
    "#Using the sum of relative uncertainties:\n",
    "sigma_F2=F*sym.sqrt((sigma_x/x)**2+(sigma_y/y)**2) \n",
    "#And we find that this gives the same result:\n",
    "print(\"Formula for sigma_F from the relative uncertainties:\")\n",
    "sigma_F2"
   ]
  },
  {
   "cell_type": "markdown",
   "metadata": {},
   "source": [
    "In example 4-7, we determine a formula for uncertainty in $F(x,y)=\\sin(x+\\ln y)$. We can use the same code as above, simply replacing the formula for F:"
   ]
  },
  {
   "cell_type": "code",
   "execution_count": 40,
   "metadata": {
    "collapsed": false
   },
   "outputs": [
    {
     "name": "stdout",
     "output_type": "stream",
     "text": [
      "Formula for sigma_F from the derivative:\n",
      " sqrt(\\sigma_x**2*cos(x + log(y))**2 + \\sigma_y**2*cos(x + log(y))**2/y**2)\n"
     ]
    },
    {
     "data": {
      "image/png": "[encoded data removed]",
      "text/latex": [
       "$$\\sqrt{\\sigma_{x}^{2} \\cos^{2}{\\left (x + \\log{\\left (y \\right )} \\right )} + \\frac{\\sigma_{y}^{2}}{y^{2}} \\cos^{2}{\\left (x + \\log{\\left (y \\right )} \\right )}}$$"
      ],
      "text/plain": [
       "      ________________________________________________________\n",
       "     ╱                                     2    2             \n",
       "    ╱         2    2               \\sigma_y ⋅cos (x + log(y)) \n",
       "   ╱   \\sigmaₓ ⋅cos (x + log(y)) + ────────────────────────── \n",
       "  ╱                                             2             \n",
       "╲╱                                             y              "
      ]
     },
     "execution_count": 40,
     "metadata": {},
     "output_type": "execute_result"
    }
   ],
   "source": [
    "import sympy as sym\n",
    "sym.init_printing()\n",
    "#Let's use sympy to evaluate the error with the derivatives:\n",
    "#Declare variables x and y and their uncertainties as symbols\n",
    "x,y,sigma_x, sigma_y = sym.symbols('x y \\sigma_x \\sigma_y')  \n",
    "#Build a function out of x and y:\n",
    "F = sym.sin(x+sym.ln(y)) \n",
    "#Find the derivatives\n",
    "dFdx=sym.diff(F,x)\n",
    "dFdy=sym.diff(F,y)\n",
    "#Add them in quadrature to have an expression for sigma_F\n",
    "sigma_F=sym.sqrt((dFdx*sigma_x)**2+(dFdy*sigma_y)**2)\n",
    "#Print out the result:\n",
    "print(\"Formula for sigma_F from the derivative:\\n\",sigma_F)\n",
    "#In a notebook, we can just print it out in pretty version:\n",
    "sigma_F"
   ]
  },
  {
   "cell_type": "code",
   "execution_count": 42,
   "metadata": {
    "collapsed": false
   },
   "outputs": [
    {
     "name": "stdout",
     "output_type": "stream",
     "text": [
      "The best estimate and uncertainty in F(x,y) is -0.93 +/- 0.18\n"
     ]
    }
   ],
   "source": [
    "#Let us now evaluate this numerically.\n",
    "#Put the tuple of values into a list\n",
    "values=[(x,3.0),(sigma_x,0.5),(y,8.0),(sigma_y,1.0)]\n",
    "#Create variables that have the variables subbed into the expressions.\n",
    "#and evaluate those as numbers:\n",
    "nValue_F=sym.N(F.subs(values))\n",
    "nValue_sigmaF=sym.N(sigma_F.subs(values))\n",
    "#Print the result\n",
    "print(\"The best estimate and uncertainty in F(x,y) is {:.2f} +/- {:.2f}\".format(\n",
    "        nValue_F,nValue_sigmaF))\n"
   ]
  },
  {
   "cell_type": "markdown",
   "metadata": {},
   "source": [
    "In example 4-8, we evaluate the derivative of $F(x,y,z)=\\sin(x+\\ln y)\\cos(z)\\sqrt{x^2+y^2+2z}$:"
   ]
  },
  {
   "cell_type": "code",
   "execution_count": 44,
   "metadata": {
    "collapsed": false
   },
   "outputs": [
    {
     "name": "stdout",
     "output_type": "stream",
     "text": [
      "The best estimate and uncertainty in F(x,y,z) is -2.59 +/- 1.02\n"
     ]
    }
   ],
   "source": [
    "import sympy as sym\n",
    "sym.init_printing()\n",
    "#Let's use sympy to evaluate the error with the derivatives:\n",
    "#Declare variables x, y and z and their uncertainties as symbols\n",
    "x,y,sigma_x, sigma_y = sym.symbols('x y \\sigma_x \\sigma_y')  \n",
    "z,sigma_z = sym.symbols('z \\sigma_z')\n",
    "#Build a function out of x and y:\n",
    "F=(sym.sin(x+sym.ln(y))*sym.cos(z))*(sym.sqrt(x**2+y**2+2*z))\n",
    "#Find the derivatives\n",
    "dFdx=sym.diff(F,x)\n",
    "dFdy=sym.diff(F,y)\n",
    "dFdz=sym.diff(F,z)\n",
    "#Add them in quadrature to have an expression for sigma_F\n",
    "sigma_F=sym.sqrt((dFdx*sigma_x)**2+(dFdy*sigma_y)**2+(dFdz*sigma_z)**2)\n",
    "#The result is a little messy to print out...\n",
    "#print(\"Formula for sigma_F from the derivative:\\n\",sigma_F)\n",
    "#Create an array of tuples for the numerical values:\n",
    "values=[(x,8),(sigma_x,0.1),(y,3),(sigma_y,0.2),(z,10),(sigma_z,0.3)]\n",
    "#Create variables that have the variables subbed into the expressions.\n",
    "#and evaluate those as numbers:\n",
    "nValue_F=sym.N(F.subs(values))\n",
    "nValue_sigmaF=sym.N(sigma_F.subs(values))\n",
    "#Print the result\n",
    "print(\"The best estimate and uncertainty in F(x,y,z) is {:.2f} +/- {:.2f}\".format(\n",
    "        nValue_F,nValue_sigmaF))\n"
   ]
  },
  {
   "cell_type": "markdown",
   "metadata": {},
   "source": [
    "## 4.5 Correlated uncertainties\n",
    "Below, we show how an example of using the covariance between measurements to determine the uncertainty in a sum.\n"
   ]
  },
  {
   "cell_type": "code",
   "execution_count": 1,
   "metadata": {
    "collapsed": false
   },
   "outputs": [
    {
     "name": "stdout",
     "output_type": "stream",
     "text": [
      "m1 = 399.70 +/- 6.01\n",
      "m2 = 199.40 +/- 8.87\n",
      "covariance = 45.67\n",
      "Treat as independent measurements: M = 599.10 +/- 4.54 (correct)\n",
      "Quadrature: M = 599.10 +/- 3.39 (underestimate)\n",
      "Sum error: M = 599.10 +/- 4.71 (overestimate)\n",
      "With covariance: M = 599.10 +/- 4.54 (correct)\n"
     ]
    }
   ],
   "source": [
    "import numpy as np\n",
    "from math import *\n",
    "#Copy and paste the data from Table 4.1, add commas by hand\n",
    "data=np.array([\n",
    "399.3, 193.2, 592.5,\n",
    "404.6, 205.1, 609.7,\n",
    "394.6, 192.6, 587.2,\n",
    "396.3, 194.2, 590.5,\n",
    "399.6, 196.6, 596.2,\n",
    "404.9, 201.0, 605.9,\n",
    "387.4, 184.7, 572.1,\n",
    "404.9, 215.2, 620.1,\n",
    "398.2, 203.6, 601.8,\n",
    "407.2, 207.8, 615.0])\n",
    "#Reshape into the correct format\n",
    "data=data.reshape(10,3)\n",
    "#Extract the columns:\n",
    "m1=data[:,0]\n",
    "m2=data[:,1]\n",
    "msum=data[:,2]\n",
    "#Get the mean and standard deviations of the columns:\n",
    "m1mean=m1.mean() #mean\n",
    "m1std=m1.std(ddof=1) #std\n",
    "m2mean=m2.mean() #mean\n",
    "m2std=m2.std(ddof=1) #std\n",
    "msmean=msum.mean() #mean\n",
    "msstd=msum.std(ddof=1) #std\n",
    "msemean=msstd/sqrt(msum.size) #error on the mean\n",
    "#Calculate the covariance\n",
    "cov=((m1-m1mean)*(m2-m2mean)).sum()/(m1.size-1)\n",
    "#Print out comparisons of the uncertainties\n",
    "print(\"m1 = {:.2f} +/- {:.2f}\".format(m1mean,m1std))\n",
    "print(\"m2 = {:.2f} +/- {:.2f}\".format(m2mean,m2std))\n",
    "print(\"covariance = {:.2f}\".format(cov))\n",
    "print(\"Treat as independent measurements: M = {:.2f} +/- {:.2f} (correct)\".format(msmean,msemean))\n",
    "print(\"Quadrature: M = {:.2f} +/- {:.2f} (underestimate)\".format(msmean,sqrt(m1std**2+m2std**2)/sqrt(msum.size)))\n",
    "print(\"Sum error: M = {:.2f} +/- {:.2f} (overestimate)\".format(msmean,(m1std+m2std)/sqrt(msum.size)))\n",
    "print(\"With covariance: M = {:.2f} +/- {:.2f} (correct)\".format(msmean,sqrt(m1std**2+m2std**2+2*cov)/sqrt(msum.size)))"
   ]
  },
  {
   "cell_type": "markdown",
   "metadata": {},
   "source": [
    "We can also plot the $m_2$ vs $m_1$ to visualize the correlation:"
   ]
  },
  {
   "cell_type": "code",
   "execution_count": 2,
   "metadata": {
    "collapsed": false
   },
   "outputs": [
    {
     "data": {
      "image/png": "[encoded data removed]",
      "text/plain": [
       "<matplotlib.figure.Figure at 0x1ffad0cdb38>"
      ]
     },
     "metadata": {},
     "output_type": "display_data"
    }
   ],
   "source": [
    "import pylab as pl\n",
    "%matplotlib inline\n",
    "\n",
    "pl.scatter(m1,m2)\n",
    "pl.xlabel('$m_1$ (kg)')\n",
    "pl.ylabel('$m_2$ (kg)')\n",
    "pl.title('Correlation between mass measurements')\n",
    "pl.show()\n"
   ]
  },
  {
   "cell_type": "markdown",
   "metadata": {
    "collapsed": true
   },
   "source": [
    "If the data are anti-correlated, the actual uncertainty in the sum will be smaller than quadrature:\n"
   ]
  },
  {
   "cell_type": "code",
   "execution_count": 3,
   "metadata": {
    "collapsed": false
   },
   "outputs": [
    {
     "name": "stdout",
     "output_type": "stream",
     "text": [
      "m1 = 397.60 +/- 11.33\n",
      "m2 = 196.94 +/- 17.14\n",
      "covariance = -148.24\n",
      "Treat as independent measurements: M = 594.55 +/- 3.54 (correct)\n",
      "Quadrature: M = 594.55 +/- 6.50 (overestimate)\n",
      "Sum error: M = 594.55 +/- 9.00 (overestimate)\n",
      "With covariance: M = 594.55 +/- 3.54 (correct)\n"
     ]
    },
    {
     "data": {
      "image/png": "[encoded data removed]",
      "text/plain": [
       "<matplotlib.figure.Figure at 0x2bfdf7ffc18>"
      ]
     },
     "metadata": {},
     "output_type": "display_data"
    }
   ],
   "source": [
    "import numpy as np\n",
    "from math import *\n",
    "import pylab as pl\n",
    "%matplotlib inline\n",
    "#Make some anti-correlated random data:\n",
    "#m1=np.random.normal(400,10,10)\n",
    "#m2=np.random.normal(600-m1,10,10)\n",
    "#msum = m1+m2\n",
    "# grab the data from table 4.2:\n",
    "data = np.array([\n",
    "397.4, 184.1, 581.5,\n",
    "388.8, 205.4, 594.2,\n",
    "400.5, 199.4, 599.9,\n",
    "416.2, 172.0, 588.2,\n",
    "396.5, 212.7, 609.2,\n",
    "375.2, 226.4, 601.6,\n",
    "409.4, 176.9, 586.4,\n",
    "400.5, 209.6, 610.1,\n",
    "390.0, 187.0, 577.0,\n",
    "401.5, 195.9, 597.4])\n",
    "\n",
    "#Reshape into the correct format\n",
    "data=data.reshape(10,3)\n",
    "#Extract the columns:\n",
    "m1=data[:,0]\n",
    "m2=data[:,1]\n",
    "msum=data[:,2]\n",
    "\n",
    "#Repeat the same analysis:\n",
    "\n",
    "#Get the mean and standard deviations of the columns:\n",
    "m1mean=m1.mean() #mean\n",
    "m1std=m1.std(ddof=1) #std\n",
    "m2mean=m2.mean() #mean\n",
    "m2std=m2.std(ddof=1) #std\n",
    "msmean=msum.mean() #mean\n",
    "msstd=msum.std(ddof=1) #std\n",
    "msemean=msstd/sqrt(msum.size) #error on the mean\n",
    "#Calculate the covariance\n",
    "cov=((m1-m1mean)*(m2-m2mean)).sum()/(m1.size-1)\n",
    "#Print out comparisons of the uncertainties\n",
    "print(\"m1 = {:.2f} +/- {:.2f}\".format(m1mean,m1std))\n",
    "print(\"m2 = {:.2f} +/- {:.2f}\".format(m2mean,m2std))\n",
    "print(\"covariance = {:.2f}\".format(cov))\n",
    "print(\"Treat as independent measurements: M = {:.2f} +/- {:.2f} (correct)\".format(msmean,msemean))\n",
    "print(\"Quadrature: M = {:.2f} +/- {:.2f} (overestimate)\".format(msmean,sqrt(m1std**2+m2std**2)/sqrt(msum.size)))\n",
    "print(\"Sum error: M = {:.2f} +/- {:.2f} (overestimate)\".format(msmean,(m1std+m2std)/sqrt(msum.size)))\n",
    "print(\"With covariance: M = {:.2f} +/- {:.2f} (correct)\".format(msmean,sqrt(m1std**2+m2std**2+2*cov)/sqrt(msum.size)))\n",
    "\n",
    "pl.scatter(m1,m2)\n",
    "pl.xlabel('$m_1$ (kg)')\n",
    "pl.ylabel('$m_2$ (kg)')\n",
    "pl.title('Correlation between mass measurements')\n",
    "pl.show()"
   ]
  },
  {
   "cell_type": "code",
   "execution_count": null,
   "metadata": {
    "collapsed": false
   },
   "outputs": [],
   "source": []
  },
  {
   "cell_type": "code",
   "execution_count": null,
   "metadata": {
    "collapsed": false
   },
   "outputs": [],
   "source": []
  },
  {
   "cell_type": "code",
   "execution_count": null,
   "metadata": {
    "collapsed": true
   },
   "outputs": [],
   "source": []
  }
 ],
 "metadata": {
  "kernelspec": {
   "display_name": "Python 3",
   "language": "python",
   "name": "python3"
  },
  "language_info": {
   "codemirror_mode": {
    "name": "ipython",
    "version": 3
   },
   "file_extension": ".py",
   "mimetype": "text/x-python",
   "name": "python",
   "nbconvert_exporter": "python",
   "pygments_lexer": "ipython3",
   "version": "3.5.1"
  }
 },
 "nbformat": 4,
 "nbformat_minor": 0
}
